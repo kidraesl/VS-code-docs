{
 "cells": [
  {
   "cell_type": "code",
   "execution_count": 11,
   "metadata": {},
   "outputs": [
    {
     "name": "stdout",
     "output_type": "stream",
     "text": [
      "Привет! Я помогу тебе расчитать количество воды? которое рекомендуется пить в сутки. Введи свой вес в окне выше!\n",
      "Вам нужно пить: 2.37 литра воды в сутки\n",
      "Удачи!\n"
     ]
    }
   ],
   "source": [
    "welcome_text = 'Привет! Я помогу тебе расчитать количество воды? которое рекомендуется пить в сутки. Введи свой вес в окне выше!' \n",
    "print(welcome_text)\n",
    "\n",
    "text_from_user = input('Введите ваш вес: ')\n",
    "text_from_user = int(text_from_user)\n",
    "\n",
    "print('Вам нужно пить:', text_from_user * 30 / 1000, 'литра воды в сутки')\n",
    "print('Удачи!')"
   ]
  }
 ],
 "metadata": {
  "kernelspec": {
   "display_name": "Python 3.10.4 64-bit",
   "language": "python",
   "name": "python3"
  },
  "language_info": {
   "codemirror_mode": {
    "name": "ipython",
    "version": 3
   },
   "file_extension": ".py",
   "mimetype": "text/x-python",
   "name": "python",
   "nbconvert_exporter": "python",
   "pygments_lexer": "ipython3",
   "version": "3.10.4"
  },
  "orig_nbformat": 4,
  "vscode": {
   "interpreter": {
    "hash": "fbe58ca63fe33f9eeae9e71d10368d2b4a57f2b1b395836210cc60d362c66949"
   }
  }
 },
 "nbformat": 4,
 "nbformat_minor": 2
}
